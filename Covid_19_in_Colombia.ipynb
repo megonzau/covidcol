{
  "nbformat": 4,
  "nbformat_minor": 0,
  "metadata": {
    "colab": {
      "name": "Covid -19 in Colombia",
      "provenance": [],
      "toc_visible": true,
      "authorship_tag": "ABX9TyOnWXjMb53nxDE5A3PToXNR",
      "include_colab_link": true
    },
    "kernelspec": {
      "name": "python3",
      "display_name": "Python 3"
    },
    "language_info": {
      "name": "python"
    }
  },
  "cells": [
    {
      "cell_type": "markdown",
      "metadata": {
        "id": "view-in-github",
        "colab_type": "text"
      },
      "source": [
        "<a href=\"https://colab.research.google.com/github/megonzau/covidcol/blob/main/Covid_19_in_Colombia.ipynb\" target=\"_parent\"><img src=\"https://colab.research.google.com/assets/colab-badge.svg\" alt=\"Open In Colab\"/></a>"
      ]
    },
    {
      "cell_type": "code",
      "metadata": {
        "id": "Fv2BQDN0Vy2F"
      },
      "source": [
        "import pandas as pd\n",
        "import numpy as np\n",
        "import scipy.io as spio\n",
        "from functools import reduce\n",
        "import matplotlib.pyplot as plt\n",
        "import plotly.express as px\n",
        "import plotly.graph_objects as go\n",
        "from plotly.subplots import make_subplots\n",
        "\n",
        "from scipy.integrate import odeint\n",
        "import matplotlib.pyplot as plt\n",
        "from scipy.optimize import minimize\n"
      ],
      "execution_count": null,
      "outputs": []
    },
    {
      "cell_type": "markdown",
      "metadata": {
        "id": "58lk0g4sWCuh"
      },
      "source": [
        "# COVID-19 Community Mobility - Google \n"
      ]
    },
    {
      "cell_type": "code",
      "metadata": {
        "colab": {
          "base_uri": "https://localhost:8080/"
        },
        "id": "jCT7leslWIKu",
        "outputId": "cc481722-1d7e-4043-9ea8-e665047652f1"
      },
      "source": [
        "df_google = pd.read_csv('https://www.gstatic.com/covid19/mobility/Global_Mobility_Report.csv', delimiter=\",\", decimal=\".\") #Datos de Google"
      ],
      "execution_count": null,
      "outputs": [
        {
          "output_type": "stream",
          "text": [
            "/usr/local/lib/python3.7/dist-packages/IPython/core/interactiveshell.py:2718: DtypeWarning:\n",
            "\n",
            "Columns (4,5) have mixed types.Specify dtype option on import or set low_memory=False.\n",
            "\n"
          ],
          "name": "stderr"
        }
      ]
    },
    {
      "cell_type": "code",
      "metadata": {
        "colab": {
          "base_uri": "https://localhost:8080/"
        },
        "id": "Fa-VNKPTWfmV",
        "outputId": "7ce95795-fa36-4f3c-bd6a-66d608658661"
      },
      "source": [
        "#Filtrar datos de Colombia\n",
        "df_g_col0 = df_google[ df_google[\"country_region\"] == \"Colombia\" ]\n",
        "#Llenar los espacios vacios de sub_region_1 ( los espacios vacios son los datos a nivel nacional)\n",
        "df_g_col0[\"sub_region_1\"].fillna(\"Nacional\", inplace = True) \n",
        "df_g_col=df_g_col0[ df_g_col0[\"sub_region_1\"] == \"Nacional\" ]\n",
        "pd.to_datetime(df_g_col['date'], format= \"%Y-%m-%d\")\n",
        "df_g_col.drop(columns=['country_region_code', 'country_region',\"sub_region_2\",\"metro_area\",\"iso_3166_2_code\",\"census_fips_code\"], inplace = True)\n",
        "df_g_col.set_index(['date'],inplace = True)"
      ],
      "execution_count": null,
      "outputs": [
        {
          "output_type": "stream",
          "text": [
            "/usr/local/lib/python3.7/dist-packages/pandas/core/series.py:4536: SettingWithCopyWarning:\n",
            "\n",
            "\n",
            "A value is trying to be set on a copy of a slice from a DataFrame\n",
            "\n",
            "See the caveats in the documentation: https://pandas.pydata.org/pandas-docs/stable/user_guide/indexing.html#returning-a-view-versus-a-copy\n",
            "\n",
            "/usr/local/lib/python3.7/dist-packages/pandas/core/frame.py:4174: SettingWithCopyWarning:\n",
            "\n",
            "\n",
            "A value is trying to be set on a copy of a slice from a DataFrame\n",
            "\n",
            "See the caveats in the documentation: https://pandas.pydata.org/pandas-docs/stable/user_guide/indexing.html#returning-a-view-versus-a-copy\n",
            "\n"
          ],
          "name": "stderr"
        }
      ]
    },
    {
      "cell_type": "markdown",
      "metadata": {
        "id": "OlEv3YdwXjTu"
      },
      "source": [
        "# Casos COVID-19 "
      ]
    },
    {
      "cell_type": "code",
      "metadata": {
        "colab": {
          "base_uri": "https://localhost:8080/"
        },
        "id": "aXdFfcFeXdye",
        "outputId": "3841f7e3-a6ac-445e-8b2a-33870d46d5ff"
      },
      "source": [
        "#Base de datos\n",
        "df_covid = pd.read_csv('https://www.datos.gov.co/api/views/gt2j-8ykr/rows.csv?accessType=DOWNLOAD', delimiter=\",\", decimal=\".\") #Datos de COVID por INS\n"
      ],
      "execution_count": null,
      "outputs": [
        {
          "output_type": "stream",
          "text": [
            "/usr/local/lib/python3.7/dist-packages/IPython/core/interactiveshell.py:2718: DtypeWarning:\n",
            "\n",
            "Columns (14) have mixed types.Specify dtype option on import or set low_memory=False.\n",
            "\n"
          ],
          "name": "stderr"
        }
      ]
    },
    {
      "cell_type": "code",
      "metadata": {
        "id": "WA-cpfloYQ7n"
      },
      "source": [
        "#Renombar las columnas y manejo ciertas varibales\n",
        "df_covid.rename(columns={\"Fecha de muerte\":'dateM'}, inplace=True)\n",
        "df_covid[[\"dateMuerte\",\"timeEl\"]]=df_covid.dateM.str.split(\" \",expand=True) #INS coloca la fecha y la hora, se separa la fecha\n",
        "\n",
        "df_covid.rename(columns={\"fecha reporte web\":'date0'}, inplace=True)\n",
        "df_covid[[\"date\",\"timeE\"]]=df_covid.date0.str.split(\" \",expand=True) #INS coloca la fecha y la hora, se separa la fecha\n",
        "\n",
        "df_covid.rename(columns={\"Fecha de recuperación\":'dateR'}, inplace=True)\n",
        "df_covid[[\"dateR\",\"timeE\"]]=df_covid.dateR.str.split(\" \",expand=True) #INS coloca la fecha y la hora, se separa la fecha\n",
        "\n",
        "df_covid[\"casos\"] = 1\n",
        "\n",
        "#Casos por fecha \n",
        "covid_dep0= df_covid.groupby([ \"date\"])['casos'].sum() \n",
        "df_covid_dep=covid_dep0.reset_index()\n",
        "\n",
        "#Fallecidos por fecha\n",
        "df_covid2 = df_covid[df_covid.dateMuerte.notnull()]\n",
        "covid_depM= df_covid2.groupby([\"dateMuerte\"])['casos'].sum() \n",
        "df_covid_depM=covid_depM.reset_index()\n",
        "\n",
        "#Recuperados\n",
        "df_covid3 = df_covid[df_covid.dateR.notnull()]\n",
        "df_covid_depR= df_covid3.groupby([\"dateR\"])['casos'].sum() \n",
        "df_covid_depR=df_covid_depR.reset_index()"
      ],
      "execution_count": null,
      "outputs": []
    },
    {
      "cell_type": "code",
      "metadata": {
        "id": "EyE2kAk4Zc4p"
      },
      "source": [
        "#Fallecidos\n",
        "df_covid_depM2 = df_covid_depM.rename(columns = {\"dateMuerte\": \"date\",\n",
        "                                                \"casos\":\"fallecidos\"}) \n",
        "df_covid_depM2=df_covid_depM2.set_index(['date'])\n",
        "#Casos confirmados\n",
        "df_covid_dep2 = df_covid_dep.rename(columns = {\"casos\": \"confirmados\"}) \n",
        "df_covid_dep2=df_covid_dep2.set_index([ 'date'])\n",
        "#Recuperados\n",
        "df_covid_depR=df_covid_depR.rename(columns={\n",
        "                              \"dateR\":'date',\n",
        "                                \"casos\":'Recuperados'})\n",
        "df_covid_depR=df_covid_depR.set_index([ 'date'])\n",
        "\n",
        "#Merge casos, fallecidos y recuperados\n",
        "df_0= pd.merge(df_covid_depM2,df_covid_dep2, how='outer', left_index=True, right_index=True)\n",
        "df_depcovid0= pd.merge(df_covid_depR,df_0, how='outer', left_index=True, right_index=True)\n",
        "\n",
        "df_depcovid0=df_depcovid0.reset_index()\n",
        "df_depcovid0['date']=  pd.to_datetime(df_depcovid0['date'], format= \"%d/%m/%Y\")\n",
        "df_depcovid1=df_depcovid0.set_index(['date'])\n",
        "\n",
        "#Merge con Google\n",
        "\n",
        "df_depcovid= pd.merge(df_g_col,df_depcovid1, how='outer', left_index=True, right_index=True)\n",
        "df_depcovid=df_depcovid.reset_index().fillna(0)\n",
        "\n",
        "#Ordenar \n",
        "df_depcovid.sort_values(by=['date'], inplace=True, ascending=True)"
      ],
      "execution_count": null,
      "outputs": []
    },
    {
      "cell_type": "code",
      "metadata": {
        "colab": {
          "base_uri": "https://localhost:8080/",
          "height": 609
        },
        "id": "g1TmQKtmidKs",
        "outputId": "e42d07b2-dd43-4677-a64c-6dd92fd3f661"
      },
      "source": [
        "df_depcovid"
      ],
      "execution_count": null,
      "outputs": [
        {
          "output_type": "execute_result",
          "data": {
            "text/html": [
              "<div>\n",
              "<style scoped>\n",
              "    .dataframe tbody tr th:only-of-type {\n",
              "        vertical-align: middle;\n",
              "    }\n",
              "\n",
              "    .dataframe tbody tr th {\n",
              "        vertical-align: top;\n",
              "    }\n",
              "\n",
              "    .dataframe thead th {\n",
              "        text-align: right;\n",
              "    }\n",
              "</style>\n",
              "<table border=\"1\" class=\"dataframe\">\n",
              "  <thead>\n",
              "    <tr style=\"text-align: right;\">\n",
              "      <th></th>\n",
              "      <th>date</th>\n",
              "      <th>sub_region_1</th>\n",
              "      <th>place_id</th>\n",
              "      <th>retail_and_recreation_percent_change_from_baseline</th>\n",
              "      <th>grocery_and_pharmacy_percent_change_from_baseline</th>\n",
              "      <th>parks_percent_change_from_baseline</th>\n",
              "      <th>transit_stations_percent_change_from_baseline</th>\n",
              "      <th>workplaces_percent_change_from_baseline</th>\n",
              "      <th>residential_percent_change_from_baseline</th>\n",
              "      <th>Recuperados</th>\n",
              "      <th>fallecidos</th>\n",
              "      <th>confirmados</th>\n",
              "    </tr>\n",
              "  </thead>\n",
              "  <tbody>\n",
              "    <tr>\n",
              "      <th>0</th>\n",
              "      <td>2020-02-15</td>\n",
              "      <td>Nacional</td>\n",
              "      <td>ChIJo5QVrjqkFY4RQKPy7wSaDZo</td>\n",
              "      <td>4.0</td>\n",
              "      <td>5.0</td>\n",
              "      <td>-5.0</td>\n",
              "      <td>1.0</td>\n",
              "      <td>7.0</td>\n",
              "      <td>1.0</td>\n",
              "      <td>0.0</td>\n",
              "      <td>0.0</td>\n",
              "      <td>0.0</td>\n",
              "    </tr>\n",
              "    <tr>\n",
              "      <th>1</th>\n",
              "      <td>2020-02-16</td>\n",
              "      <td>Nacional</td>\n",
              "      <td>ChIJo5QVrjqkFY4RQKPy7wSaDZo</td>\n",
              "      <td>0.0</td>\n",
              "      <td>5.0</td>\n",
              "      <td>-5.0</td>\n",
              "      <td>-1.0</td>\n",
              "      <td>1.0</td>\n",
              "      <td>2.0</td>\n",
              "      <td>0.0</td>\n",
              "      <td>0.0</td>\n",
              "      <td>0.0</td>\n",
              "    </tr>\n",
              "    <tr>\n",
              "      <th>2</th>\n",
              "      <td>2020-02-17</td>\n",
              "      <td>Nacional</td>\n",
              "      <td>ChIJo5QVrjqkFY4RQKPy7wSaDZo</td>\n",
              "      <td>-1.0</td>\n",
              "      <td>3.0</td>\n",
              "      <td>-4.0</td>\n",
              "      <td>6.0</td>\n",
              "      <td>15.0</td>\n",
              "      <td>-1.0</td>\n",
              "      <td>0.0</td>\n",
              "      <td>0.0</td>\n",
              "      <td>0.0</td>\n",
              "    </tr>\n",
              "    <tr>\n",
              "      <th>3</th>\n",
              "      <td>2020-02-18</td>\n",
              "      <td>Nacional</td>\n",
              "      <td>ChIJo5QVrjqkFY4RQKPy7wSaDZo</td>\n",
              "      <td>-3.0</td>\n",
              "      <td>1.0</td>\n",
              "      <td>-3.0</td>\n",
              "      <td>10.0</td>\n",
              "      <td>17.0</td>\n",
              "      <td>-1.0</td>\n",
              "      <td>0.0</td>\n",
              "      <td>0.0</td>\n",
              "      <td>0.0</td>\n",
              "    </tr>\n",
              "    <tr>\n",
              "      <th>4</th>\n",
              "      <td>2020-02-19</td>\n",
              "      <td>Nacional</td>\n",
              "      <td>ChIJo5QVrjqkFY4RQKPy7wSaDZo</td>\n",
              "      <td>-5.0</td>\n",
              "      <td>-5.0</td>\n",
              "      <td>-5.0</td>\n",
              "      <td>6.0</td>\n",
              "      <td>13.0</td>\n",
              "      <td>-2.0</td>\n",
              "      <td>0.0</td>\n",
              "      <td>0.0</td>\n",
              "      <td>0.0</td>\n",
              "    </tr>\n",
              "    <tr>\n",
              "      <th>...</th>\n",
              "      <td>...</td>\n",
              "      <td>...</td>\n",
              "      <td>...</td>\n",
              "      <td>...</td>\n",
              "      <td>...</td>\n",
              "      <td>...</td>\n",
              "      <td>...</td>\n",
              "      <td>...</td>\n",
              "      <td>...</td>\n",
              "      <td>...</td>\n",
              "      <td>...</td>\n",
              "      <td>...</td>\n",
              "    </tr>\n",
              "    <tr>\n",
              "      <th>397</th>\n",
              "      <td>2021-03-18</td>\n",
              "      <td>Nacional</td>\n",
              "      <td>ChIJo5QVrjqkFY4RQKPy7wSaDZo</td>\n",
              "      <td>-28.0</td>\n",
              "      <td>9.0</td>\n",
              "      <td>-27.0</td>\n",
              "      <td>-17.0</td>\n",
              "      <td>-18.0</td>\n",
              "      <td>10.0</td>\n",
              "      <td>4519.0</td>\n",
              "      <td>123.0</td>\n",
              "      <td>5139.0</td>\n",
              "    </tr>\n",
              "    <tr>\n",
              "      <th>398</th>\n",
              "      <td>2021-03-19</td>\n",
              "      <td>Nacional</td>\n",
              "      <td>ChIJo5QVrjqkFY4RQKPy7wSaDZo</td>\n",
              "      <td>-23.0</td>\n",
              "      <td>15.0</td>\n",
              "      <td>-23.0</td>\n",
              "      <td>-10.0</td>\n",
              "      <td>-11.0</td>\n",
              "      <td>9.0</td>\n",
              "      <td>4770.0</td>\n",
              "      <td>131.0</td>\n",
              "      <td>5133.0</td>\n",
              "    </tr>\n",
              "    <tr>\n",
              "      <th>399</th>\n",
              "      <td>2021-03-20</td>\n",
              "      <td>0</td>\n",
              "      <td>0</td>\n",
              "      <td>0.0</td>\n",
              "      <td>0.0</td>\n",
              "      <td>0.0</td>\n",
              "      <td>0.0</td>\n",
              "      <td>0.0</td>\n",
              "      <td>0.0</td>\n",
              "      <td>4604.0</td>\n",
              "      <td>99.0</td>\n",
              "      <td>6761.0</td>\n",
              "    </tr>\n",
              "    <tr>\n",
              "      <th>400</th>\n",
              "      <td>2021-03-21</td>\n",
              "      <td>0</td>\n",
              "      <td>0</td>\n",
              "      <td>0.0</td>\n",
              "      <td>0.0</td>\n",
              "      <td>0.0</td>\n",
              "      <td>0.0</td>\n",
              "      <td>0.0</td>\n",
              "      <td>0.0</td>\n",
              "      <td>4705.0</td>\n",
              "      <td>112.0</td>\n",
              "      <td>5963.0</td>\n",
              "    </tr>\n",
              "    <tr>\n",
              "      <th>401</th>\n",
              "      <td>2021-03-22</td>\n",
              "      <td>0</td>\n",
              "      <td>0</td>\n",
              "      <td>0.0</td>\n",
              "      <td>0.0</td>\n",
              "      <td>0.0</td>\n",
              "      <td>0.0</td>\n",
              "      <td>0.0</td>\n",
              "      <td>0.0</td>\n",
              "      <td>5208.0</td>\n",
              "      <td>21.0</td>\n",
              "      <td>5128.0</td>\n",
              "    </tr>\n",
              "  </tbody>\n",
              "</table>\n",
              "<p>402 rows × 12 columns</p>\n",
              "</div>"
            ],
            "text/plain": [
              "          date sub_region_1  ... fallecidos  confirmados\n",
              "0   2020-02-15     Nacional  ...        0.0          0.0\n",
              "1   2020-02-16     Nacional  ...        0.0          0.0\n",
              "2   2020-02-17     Nacional  ...        0.0          0.0\n",
              "3   2020-02-18     Nacional  ...        0.0          0.0\n",
              "4   2020-02-19     Nacional  ...        0.0          0.0\n",
              "..         ...          ...  ...        ...          ...\n",
              "397 2021-03-18     Nacional  ...      123.0       5139.0\n",
              "398 2021-03-19     Nacional  ...      131.0       5133.0\n",
              "399 2021-03-20            0  ...       99.0       6761.0\n",
              "400 2021-03-21            0  ...      112.0       5963.0\n",
              "401 2021-03-22            0  ...       21.0       5128.0\n",
              "\n",
              "[402 rows x 12 columns]"
            ]
          },
          "metadata": {
            "tags": []
          },
          "execution_count": 7
        }
      ]
    },
    {
      "cell_type": "code",
      "metadata": {
        "id": "ZWyDDM8LaFNl"
      },
      "source": [
        "df_depcovid=df_depcovid[ df_depcovid[\"sub_region_1\"] == \"Nacional\" ]\n",
        "df_depcovid.set_index(['sub_region_1',\"date\"], inplace= True)\n",
        "df_depcovid= pd.concat([df_depcovid, df_depcovid.groupby(level=0).cumsum().add_prefix('Acum_')], 1)"
      ],
      "execution_count": null,
      "outputs": []
    },
    {
      "cell_type": "code",
      "metadata": {
        "id": "5-xm89m5fyrB"
      },
      "source": [
        "df_depcovid=df_depcovid.reset_index().set_index([\"date\"])"
      ],
      "execution_count": null,
      "outputs": []
    },
    {
      "cell_type": "code",
      "metadata": {
        "id": "7KbUNXJ2fzEF"
      },
      "source": [
        "df_depcovid=df_depcovid.drop(columns=['Acum_retail_and_recreation_percent_change_from_baseline', 'Acum_grocery_and_pharmacy_percent_change_from_baseline',\"Acum_parks_percent_change_from_baseline\",\"Acum_transit_stations_percent_change_from_baseline\",\"Acum_workplaces_percent_change_from_baseline\",\"Acum_residential_percent_change_from_baseline\"])"
      ],
      "execution_count": null,
      "outputs": []
    },
    {
      "cell_type": "markdown",
      "metadata": {
        "id": "AWOepLAlgQzi"
      },
      "source": [
        "# MAtrices - MODULO SIR\n",
        "\n",
        "Working process. "
      ]
    },
    {
      "cell_type": "code",
      "metadata": {
        "id": "qtMDtJuSgRW9"
      },
      "source": [
        "df_depcovid=df_depcovid.reset_index()\n",
        "infected= df_depcovid[['Acum_confirmados','date']].set_index([\"date\"])\n",
        "infected=infected.T\n",
        "infected[\"population\"]=50372424\n",
        "infected[\"Tipo\"]=\"Nacional\"\n",
        "infected=infected.reset_index().set_index([\"Tipo\"])"
      ],
      "execution_count": null,
      "outputs": []
    },
    {
      "cell_type": "code",
      "metadata": {
        "id": "J_Yy098OgeD9"
      },
      "source": [
        "deaths= df_depcovid[['Acum_fallecidos','date']].set_index([\"date\"])\n",
        "deaths=deaths.T\n",
        "deaths[\"population\"]=50372424\n",
        "deaths[\"Tipo\"]=\"Nacional\"\n",
        "deaths=deaths.reset_index().set_index([\"Tipo\"])"
      ],
      "execution_count": null,
      "outputs": []
    },
    {
      "cell_type": "code",
      "metadata": {
        "id": "RdkUOA5_gf_N"
      },
      "source": [
        "recovered= df_depcovid[['Acum_Recuperados','date']].set_index([\"date\"])\n",
        "recovered=recovered.T\n",
        "recovered[\"population\"]=50372424\n",
        "recovered[\"Tipo\"]=\"Nacional\"\n",
        "recovered=recovered.reset_index().set_index([\"Tipo\"])"
      ],
      "execution_count": null,
      "outputs": []
    }
  ]
}